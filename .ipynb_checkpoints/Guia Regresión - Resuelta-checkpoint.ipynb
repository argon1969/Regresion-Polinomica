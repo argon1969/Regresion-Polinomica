{
 "cells": [
  {
   "cell_type": "markdown",
   "metadata": {},
   "source": [
    "# Guia regresión \n",
    "## Consigna\n",
    "Para el dataset a continuación, calcular la regresión polinómica e ir variando el orden hasta obtener el resultado óptimo de AIC y BIC. También calcular $ R^2 $ y los p values."
   ]
  },
  {
   "cell_type": "code",
   "execution_count": null,
   "metadata": {
    "collapsed": false
   },
   "outputs": [],
   "source": [
    "import numpy as np\n",
    "import matplotlib.pyplot as plt\n",
    "X = np.load('X.npy')\n",
    "y= np.load('y.npy')\n",
    "plt.figure()\n",
    "plt.plot(X, y,'.',  color='black')\n",
    "plt.title('Dataset')\n",
    "plt.show()\n",
    "\n",
    "\n"
   ]
  },
  {
   "cell_type": "markdown",
   "metadata": {},
   "source": [
    "## Solución"
   ]
  },
  {
   "cell_type": "markdown",
   "metadata": {},
   "source": [
    "### Cálculos con mejor valor de k (grado del polinomio) encontrado -> k=3"
   ]
  },
  {
   "cell_type": "code",
   "execution_count": 2,
   "metadata": {
    "collapsed": false
   },
   "outputs": [
    {
     "data": {
      "image/png": "[encoded data removed]",
      "text/plain": [
       "<matplotlib.figure.Figure at 0x2d3db9f4b00>"
      ]
     },
     "metadata": {},
     "output_type": "display_data"
    },
    {
     "name": "stdout",
     "output_type": "stream",
     "text": [
      "\n",
      "Datos calculados en base al modelo de sklearn:\n",
      "\n",
      "Orden del Polinomio con menores AIC y BIC:  3\n",
      "AIC= 6210.422756199665\n",
      "BIC= 6223.066580494931\n",
      "R-squared= 0.8948447692709975\n"
     ]
    }
   ],
   "source": [
    "%matplotlib inline\n",
    "import numpy as np\n",
    "import matplotlib.pyplot as plt\n",
    "from scipy.sparse import isspmatrix\n",
    "from sklearn.preprocessing import PolynomialFeatures\n",
    "from sklearn.metrics import r2_score\n",
    "#import statsmodels.formula.api as smf\n",
    "#from scipy import stats\n",
    "\n",
    "X = np.load('X.npy')\n",
    "y= np.load('y.npy')\n",
    "\n",
    "plt.figure()\n",
    "plt.plot(X, y,'.',  color='black')\n",
    "plt.title('Dataset')\n",
    "#plt.show()\n",
    "\n",
    "from sklearn.linear_model import LinearRegression\n",
    "X=X.reshape(-1,1)\n",
    "\n",
    "#Aplico la solución por regresión lineal utilizando sklearn\n",
    "\n",
    "k=3 #Orden del modelo\n",
    "#Creacion de Features de Grado k para utilizar en regresion polinomica\n",
    "poly_features = PolynomialFeatures(degree=k, include_bias=False)\n",
    "X_poly = poly_features.fit_transform(X)\n",
    "\n",
    "#creacion del modelo con sklearn\n",
    "lin_reg = LinearRegression()\n",
    "lin_reg.fit(X_poly,y)\n",
    "y_pred=lin_reg.predict(X_poly)\n",
    "plt.plot(X,y_pred, color='blue', linewidth=2)\n",
    "plt.show()\n",
    "\n",
    "#Calculo de AIC y BIC del modelo de sklearn\n",
    "resid=y-y_pred\n",
    "sse=sum(resid**2)\n",
    "n_samples = X.shape[0]\n",
    "AIC = n_samples*np.log(sse/n_samples) + 2*k #https://www.researchgate.net/post/What_is_the_AIC_formula\n",
    "BIC = n_samples*np.log(sse/n_samples) + k*np.log(n_samples)\n",
    "R2 = r2_score(y, y_pred) # Cuanto mas cercana a 1 mejor https://en.wikipedia.org/wiki/Coefficient_of_determination\n",
    "print(\"\\nDatos calculados en base al modelo de sklearn:\")\n",
    "print(\"\\nOrden del Polinomio con menores AIC y BIC: \", k)\n",
    "print(\"AIC=\",AIC)\n",
    "print(\"BIC=\",BIC)\n",
    "print(\"R-squared=\",R2)\n",
    "\n"
   ]
  },
  {
   "cell_type": "markdown",
   "metadata": {
    "collapsed": true
   },
   "source": [
    "### Resultados obtenidos al variar k (grado del polinomio)"
   ]
  },
  {
   "cell_type": "markdown",
   "metadata": {
    "collapsed": true
   },
   "source": [
    "#### k=1\n",
    "<img src=\"./grado1.png\">"
   ]
  },
  {
   "cell_type": "markdown",
   "metadata": {
    "collapsed": true
   },
   "source": [
    "#### k=2\n",
    "<img src=\"./grado2.png\">"
   ]
  },
  {
   "cell_type": "markdown",
   "metadata": {},
   "source": [
    "#### k=3\n",
    "\n",
    "<img src=\"./grado3.png\">\n"
   ]
  },
  {
   "cell_type": "markdown",
   "metadata": {},
   "source": [
    "#### k=4\n",
    "<img src=\"./grado4.png\">"
   ]
  },
  {
   "cell_type": "markdown",
   "metadata": {},
   "source": [
    "#### k=5\n",
    "<img src=\"./grado5.png\">"
   ]
  },
  {
   "cell_type": "markdown",
   "metadata": {},
   "source": [
    "#### k=15\n",
    "<img src=\"./grado15.png\">"
   ]
  }
 ],
 "metadata": {
  "celltoolbar": "Raw Cell Format",
  "kernelspec": {
   "display_name": "Python 3",
   "language": "python",
   "name": "python3"
  },
  "language_info": {
   "codemirror_mode": {
    "name": "ipython",
    "version": 3
   },
   "file_extension": ".py",
   "mimetype": "text/x-python",
   "name": "python",
   "nbconvert_exporter": "python",
   "pygments_lexer": "ipython3",
   "version": "3.5.4"
  }
 },
 "nbformat": 4,
 "nbformat_minor": 2
}
